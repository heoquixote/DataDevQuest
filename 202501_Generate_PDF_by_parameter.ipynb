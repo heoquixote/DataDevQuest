{
 "cells": [
  {
   "cell_type": "code",
   "execution_count": 2,
   "metadata": {},
   "outputs": [
    {
     "name": "stdout",
     "output_type": "stream",
     "text": [
      "[Logged in successfully to https://10ax.online.tableau.com/]\n"
     ]
    }
   ],
   "source": [
    "import os\n",
    "from dotenv import load_dotenv\n",
    "\n",
    "# .env 파일 로드\n",
    "load_dotenv()\n",
    "import tableauserverclient as TSC\n",
    "\n",
    "\n",
    "my_server_url = 'https://10ax.online.tableau.com/'\n",
    "my_token_name = os.getenv(\"my_token_name\")\n",
    "my_token_secret = os.getenv(\"my_token_secret\")\n",
    "my_site_id = os.getenv(\"my_site_id\")\n",
    "\n",
    "tableau_auth = TSC.PersonalAccessTokenAuth( token_name=my_token_name\n",
    "                                           ,personal_access_token=my_token_secret\n",
    "                                           ,site_id=my_site_id)\n",
    "server = TSC.Server(my_server_url, use_server_version=True)\n",
    "\n",
    "with server.auth.sign_in_with_personal_access_token(tableau_auth):\n",
    "    print('[Logged in successfully to {}]'.format(my_server_url))"
   ]
  },
  {
   "cell_type": "code",
   "execution_count": 7,
   "metadata": {},
   "outputs": [
    {
     "name": "stdout",
     "output_type": "stream",
     "text": [
      "[Logged in successfully to https://10ax.online.tableau.com/]\n",
      "=== Workbook ===\n",
      "Name:Let's Play A Game\n",
      "luid:3f3869fd-7c0f-4c53-aa65-a1133e5c8a52\n",
      "URL:https://10ax.online.tableau.com/#/site/hotelab/workbooks/941424\n",
      "Content URL:LetsPlayAGame\n"
     ]
    }
   ],
   "source": [
    "import tableauserverclient as TSC\n",
    "\n",
    "my_server_url = 'https://10ax.online.tableau.com/'\n",
    "my_token_name = os.getenv(\"my_token_name\")\n",
    "my_token_secret = os.getenv(\"my_token_secret\")\n",
    "my_site_id = os.getenv(\"my_site_id\")\n",
    "my_workbook = \"Let's Play A Game\"\n",
    "\n",
    "tableau_auth = TSC.PersonalAccessTokenAuth( token_name=my_token_name\n",
    "                                           ,personal_access_token=my_token_secret\n",
    "                                           ,site_id=my_site_id)\n",
    "server = TSC.Server(my_server_url, use_server_version=True)\n",
    "\n",
    "with server.auth.sign_in_with_personal_access_token(tableau_auth):\n",
    "    print('[Logged in successfully to {}]'.format(my_server_url))\n",
    "    \n",
    "    req_option = TSC.RequestOptions()\n",
    "    req_option.filter.add(TSC.Filter(TSC.RequestOptions.Field.Name\n",
    "                                    ,TSC.RequestOptions.Operator.Equals\n",
    "                                    ,my_workbook))\n",
    " \n",
    "    workbooks, pagination_item = server.workbooks.get(req_options=req_option)\n",
    "    if workbooks:\n",
    "        print(f\"=== Workbook ===\")\n",
    "        print(f\"Name:{workbooks[0].name}\")\n",
    "        print(f\"luid:{workbooks[0].id}\")\n",
    "        print(f\"URL:{workbooks[0].webpage_url}\")\n",
    "        print(f\"Content URL:{workbooks[0].content_url}\")"
   ]
  },
  {
   "cell_type": "code",
   "execution_count": 36,
   "metadata": {},
   "outputs": [
    {
     "name": "stdout",
     "output_type": "stream",
     "text": [
      "Requirement already satisfied: tableauserverclient in /Users/heojinseong/.conda/lib/python3.12/site-packages (0.36)\n",
      "Collecting pymupdf\n",
      "  Downloading pymupdf-1.25.2-cp39-abi3-macosx_11_0_arm64.whl.metadata (3.4 kB)\n",
      "Requirement already satisfied: defusedxml>=0.7.1 in /Users/heojinseong/.conda/lib/python3.12/site-packages (from tableauserverclient) (0.7.1)\n",
      "Requirement already satisfied: packaging>=23.1 in /Users/heojinseong/.conda/lib/python3.12/site-packages (from tableauserverclient) (24.1)\n",
      "Requirement already satisfied: requests>=2.32 in /Users/heojinseong/.conda/lib/python3.12/site-packages (from tableauserverclient) (2.32.3)\n",
      "Requirement already satisfied: urllib3<3,>=2.2.2 in /Users/heojinseong/.conda/lib/python3.12/site-packages (from tableauserverclient) (2.2.2)\n",
      "Requirement already satisfied: typing_extensions>=4.0 in /Users/heojinseong/.conda/lib/python3.12/site-packages (from tableauserverclient) (4.12.2)\n",
      "Requirement already satisfied: charset-normalizer<4,>=2 in /Users/heojinseong/.conda/lib/python3.12/site-packages (from requests>=2.32->tableauserverclient) (3.4.0)\n",
      "Requirement already satisfied: idna<4,>=2.5 in /Users/heojinseong/.conda/lib/python3.12/site-packages (from requests>=2.32->tableauserverclient) (3.10)\n",
      "Requirement already satisfied: certifi>=2017.4.17 in /Users/heojinseong/.conda/lib/python3.12/site-packages (from requests>=2.32->tableauserverclient) (2024.8.30)\n",
      "Downloading pymupdf-1.25.2-cp39-abi3-macosx_11_0_arm64.whl (18.6 MB)\n",
      "\u001b[2K   \u001b[90m━━━━━━━━━━━━━━━━━━━━━━━━━━━━━━━━━━━━━━━━\u001b[0m \u001b[32m18.6/18.6 MB\u001b[0m \u001b[31m11.7 MB/s\u001b[0m eta \u001b[36m0:00:00\u001b[0ma \u001b[36m0:00:01\u001b[0m\n",
      "\u001b[?25hInstalling collected packages: pymupdf\n",
      "Successfully installed pymupdf-1.25.2\n",
      "Note: you may need to restart the kernel to use updated packages.\n"
     ]
    }
   ],
   "source": [
    "pip install tableauserverclient pymupdf"
   ]
  },
  {
   "cell_type": "code",
   "execution_count": 61,
   "metadata": {},
   "outputs": [
    {
     "name": "stderr",
     "output_type": "stream",
     "text": [
      "DEBUG:TSC:request method get, url: https://10ax.online.tableau.com//api/2.4/serverInfo\n",
      "DEBUG:TSC:[15:26:51] Begin blocking request to https://10ax.online.tableau.com//api/2.4/serverInfo\n",
      "DEBUG:urllib3.connectionpool:Starting new HTTPS connection (1): 10ax.online.tableau.com:443\n",
      "DEBUG:urllib3.connectionpool:https://10ax.online.tableau.com:443 \"GET /api/2.4/serverInfo HTTP/11\" 200 269\n",
      "DEBUG:TSC:[15:26:52] Call finished\n",
      "DEBUG:TSC:[15:26:52] Async request returned: received <Response [200]>\n",
      "DEBUG:TSC:Response status: <Response [200]>\n",
      "DEBUG:TSC:Server response from https://10ax.online.tableau.com//api/2.4/serverInfo\n",
      "INFO:TSC:versions: 3.25, 2.4\n",
      "DEBUG:urllib3.connectionpool:https://10ax.online.tableau.com:443 \"POST /api/3.25/auth/signin HTTP/11\" 200 394\n",
      "DEBUG:TSC:Response status: <Response [200]>\n",
      "INFO:TSC:Signed into https://10ax.online.tableau.com/ as user with id 38f9dff8-8158-4743-8c46-f928cf405f22\n",
      "INFO:TSC:Querying all workbooks on site\n",
      "DEBUG:TSC:request method get, url: https://10ax.online.tableau.com//api/3.25/sites/01908fc8-731c-4227-997c-7fab8d70218c/workbooks\n",
      "DEBUG:TSC:[15:26:52] Begin blocking request to https://10ax.online.tableau.com//api/3.25/sites/01908fc8-731c-4227-997c-7fab8d70218c/workbooks\n"
     ]
    },
    {
     "name": "stdout",
     "output_type": "stream",
     "text": [
      "[Logged in successfully to https://10ax.online.tableau.com/]\n"
     ]
    },
    {
     "name": "stderr",
     "output_type": "stream",
     "text": [
      "DEBUG:urllib3.connectionpool:https://10ax.online.tableau.com:443 \"GET /api/3.25/sites/01908fc8-731c-4227-997c-7fab8d70218c/workbooks?filter=name%3Aeq%3ALet%27s+Play+A+Game&pageNumber=1&pageSize=100 HTTP/11\" 200 603\n",
      "DEBUG:TSC:[15:26:53] Call finished\n",
      "DEBUG:TSC:[15:26:53] Async request returned: received <Response [200]>\n",
      "DEBUG:TSC:Response status: <Response [200]>\n",
      "DEBUG:TSC:Server response from https://10ax.online.tableau.com//api/3.25/sites/01908fc8-731c-4227-997c-7fab8d70218c/workbooks\n",
      "INFO:TSC:Populated views for workbook (ID: 3f3869fd-7c0f-4c53-aa65-a1133e5c8a52)\n",
      "DEBUG:TSC:request method get, url: https://10ax.online.tableau.com//api/3.25/sites/01908fc8-731c-4227-997c-7fab8d70218c/workbooks/3f3869fd-7c0f-4c53-aa65-a1133e5c8a52/views\n",
      "DEBUG:TSC:[15:26:53] Begin blocking request to https://10ax.online.tableau.com//api/3.25/sites/01908fc8-731c-4227-997c-7fab8d70218c/workbooks/3f3869fd-7c0f-4c53-aa65-a1133e5c8a52/views\n"
     ]
    },
    {
     "name": "stdout",
     "output_type": "stream",
     "text": [
      "Workbook found: Let's Play A Game (ID: 3f3869fd-7c0f-4c53-aa65-a1133e5c8a52)\n"
     ]
    },
    {
     "name": "stderr",
     "output_type": "stream",
     "text": [
      "DEBUG:urllib3.connectionpool:https://10ax.online.tableau.com:443 \"GET /api/3.25/sites/01908fc8-731c-4227-997c-7fab8d70218c/workbooks/3f3869fd-7c0f-4c53-aa65-a1133e5c8a52/views HTTP/11\" 200 340\n",
      "DEBUG:TSC:[15:26:53] Call finished\n",
      "DEBUG:TSC:[15:26:53] Async request returned: received <Response [200]>\n",
      "DEBUG:TSC:Response status: <Response [200]>\n",
      "DEBUG:TSC:Server response from https://10ax.online.tableau.com//api/3.25/sites/01908fc8-731c-4227-997c-7fab8d70218c/workbooks/3f3869fd-7c0f-4c53-aa65-a1133e5c8a52/views\n",
      "INFO:TSC:Querying single view (ID: 77ff3a78-dc22-455d-b912-a870d00ac324)\n",
      "DEBUG:TSC:request method get, url: https://10ax.online.tableau.com//api/3.25/sites/01908fc8-731c-4227-997c-7fab8d70218c/views/77ff3a78-dc22-455d-b912-a870d00ac324\n",
      "DEBUG:TSC:[15:26:53] Begin blocking request to https://10ax.online.tableau.com//api/3.25/sites/01908fc8-731c-4227-997c-7fab8d70218c/views/77ff3a78-dc22-455d-b912-a870d00ac324\n"
     ]
    },
    {
     "name": "stdout",
     "output_type": "stream",
     "text": [
      "Using view: Let's Play A Game (ID: 77ff3a78-dc22-455d-b912-a870d00ac324)\n",
      "Generating PDF for: Activision\n"
     ]
    },
    {
     "name": "stderr",
     "output_type": "stream",
     "text": [
      "DEBUG:urllib3.connectionpool:https://10ax.online.tableau.com:443 \"GET /api/3.25/sites/01908fc8-731c-4227-997c-7fab8d70218c/views/77ff3a78-dc22-455d-b912-a870d00ac324 HTTP/11\" 200 454\n",
      "DEBUG:TSC:[15:26:53] Call finished\n",
      "DEBUG:TSC:[15:26:53] Async request returned: received <Response [200]>\n",
      "DEBUG:TSC:Response status: <Response [200]>\n",
      "DEBUG:TSC:Server response from https://10ax.online.tableau.com//api/3.25/sites/01908fc8-731c-4227-997c-7fab8d70218c/views/77ff3a78-dc22-455d-b912-a870d00ac324\n",
      "INFO:TSC:Populated pdf for view (ID: 77ff3a78-dc22-455d-b912-a870d00ac324)\n",
      "DEBUG:TSC:request method get, url: https://10ax.online.tableau.com//api/3.25/sites/01908fc8-731c-4227-997c-7fab8d70218c/views/77ff3a78-dc22-455d-b912-a870d00ac324/pdf\n",
      "DEBUG:TSC:[15:26:53] Begin blocking request to https://10ax.online.tableau.com//api/3.25/sites/01908fc8-731c-4227-997c-7fab8d70218c/views/77ff3a78-dc22-455d-b912-a870d00ac324/pdf\n",
      "DEBUG:urllib3.connectionpool:https://10ax.online.tableau.com:443 \"GET /api/3.25/sites/01908fc8-731c-4227-997c-7fab8d70218c/views/77ff3a78-dc22-455d-b912-a870d00ac324/pdf?vf_SelectedPublisher=Activision HTTP/11\" 200 None\n",
      "DEBUG:TSC:[15:26:54] Call finished\n",
      "DEBUG:TSC:[15:26:54] Async request returned: received <Response [200]>\n",
      "DEBUG:TSC:Response status: <Response [200]>\n",
      "DEBUG:TSC:Server response from https://10ax.online.tableau.com//api/3.25/sites/01908fc8-731c-4227-997c-7fab8d70218c/views/77ff3a78-dc22-455d-b912-a870d00ac324/pdf\n",
      "INFO:TSC:Querying single view (ID: 77ff3a78-dc22-455d-b912-a870d00ac324)\n",
      "DEBUG:TSC:request method get, url: https://10ax.online.tableau.com//api/3.25/sites/01908fc8-731c-4227-997c-7fab8d70218c/views/77ff3a78-dc22-455d-b912-a870d00ac324\n",
      "DEBUG:TSC:[15:26:54] Begin blocking request to https://10ax.online.tableau.com//api/3.25/sites/01908fc8-731c-4227-997c-7fab8d70218c/views/77ff3a78-dc22-455d-b912-a870d00ac324\n"
     ]
    },
    {
     "name": "stdout",
     "output_type": "stream",
     "text": [
      "Generating PDF for: Electronic Arts\n"
     ]
    },
    {
     "name": "stderr",
     "output_type": "stream",
     "text": [
      "DEBUG:urllib3.connectionpool:https://10ax.online.tableau.com:443 \"GET /api/3.25/sites/01908fc8-731c-4227-997c-7fab8d70218c/views/77ff3a78-dc22-455d-b912-a870d00ac324 HTTP/11\" 200 454\n",
      "DEBUG:TSC:[15:26:54] Call finished\n",
      "DEBUG:TSC:[15:26:54] Async request returned: received <Response [200]>\n",
      "DEBUG:TSC:Response status: <Response [200]>\n",
      "DEBUG:TSC:Server response from https://10ax.online.tableau.com//api/3.25/sites/01908fc8-731c-4227-997c-7fab8d70218c/views/77ff3a78-dc22-455d-b912-a870d00ac324\n",
      "INFO:TSC:Populated pdf for view (ID: 77ff3a78-dc22-455d-b912-a870d00ac324)\n",
      "DEBUG:TSC:request method get, url: https://10ax.online.tableau.com//api/3.25/sites/01908fc8-731c-4227-997c-7fab8d70218c/views/77ff3a78-dc22-455d-b912-a870d00ac324/pdf\n",
      "DEBUG:TSC:[15:26:54] Begin blocking request to https://10ax.online.tableau.com//api/3.25/sites/01908fc8-731c-4227-997c-7fab8d70218c/views/77ff3a78-dc22-455d-b912-a870d00ac324/pdf\n",
      "DEBUG:urllib3.connectionpool:https://10ax.online.tableau.com:443 \"GET /api/3.25/sites/01908fc8-731c-4227-997c-7fab8d70218c/views/77ff3a78-dc22-455d-b912-a870d00ac324/pdf?vf_SelectedPublisher=Electronic+Arts HTTP/11\" 200 None\n",
      "DEBUG:TSC:[15:26:54] Call finished\n",
      "DEBUG:TSC:[15:26:54] Async request returned: received <Response [200]>\n",
      "DEBUG:TSC:Response status: <Response [200]>\n",
      "DEBUG:TSC:Server response from https://10ax.online.tableau.com//api/3.25/sites/01908fc8-731c-4227-997c-7fab8d70218c/views/77ff3a78-dc22-455d-b912-a870d00ac324/pdf\n",
      "INFO:TSC:Querying single view (ID: 77ff3a78-dc22-455d-b912-a870d00ac324)\n",
      "DEBUG:TSC:request method get, url: https://10ax.online.tableau.com//api/3.25/sites/01908fc8-731c-4227-997c-7fab8d70218c/views/77ff3a78-dc22-455d-b912-a870d00ac324\n",
      "DEBUG:TSC:[15:26:54] Begin blocking request to https://10ax.online.tableau.com//api/3.25/sites/01908fc8-731c-4227-997c-7fab8d70218c/views/77ff3a78-dc22-455d-b912-a870d00ac324\n"
     ]
    },
    {
     "name": "stdout",
     "output_type": "stream",
     "text": [
      "Generating PDF for: Konami Digital Entertainment\n"
     ]
    },
    {
     "name": "stderr",
     "output_type": "stream",
     "text": [
      "DEBUG:urllib3.connectionpool:https://10ax.online.tableau.com:443 \"GET /api/3.25/sites/01908fc8-731c-4227-997c-7fab8d70218c/views/77ff3a78-dc22-455d-b912-a870d00ac324 HTTP/11\" 200 454\n",
      "DEBUG:TSC:[15:26:55] Call finished\n",
      "DEBUG:TSC:[15:26:55] Async request returned: received <Response [200]>\n",
      "DEBUG:TSC:Response status: <Response [200]>\n",
      "DEBUG:TSC:Server response from https://10ax.online.tableau.com//api/3.25/sites/01908fc8-731c-4227-997c-7fab8d70218c/views/77ff3a78-dc22-455d-b912-a870d00ac324\n",
      "INFO:TSC:Populated pdf for view (ID: 77ff3a78-dc22-455d-b912-a870d00ac324)\n",
      "DEBUG:TSC:request method get, url: https://10ax.online.tableau.com//api/3.25/sites/01908fc8-731c-4227-997c-7fab8d70218c/views/77ff3a78-dc22-455d-b912-a870d00ac324/pdf\n",
      "DEBUG:TSC:[15:26:55] Begin blocking request to https://10ax.online.tableau.com//api/3.25/sites/01908fc8-731c-4227-997c-7fab8d70218c/views/77ff3a78-dc22-455d-b912-a870d00ac324/pdf\n",
      "DEBUG:urllib3.connectionpool:https://10ax.online.tableau.com:443 \"GET /api/3.25/sites/01908fc8-731c-4227-997c-7fab8d70218c/views/77ff3a78-dc22-455d-b912-a870d00ac324/pdf?vf_SelectedPublisher=Konami+Digital+Entertainment HTTP/11\" 200 None\n",
      "DEBUG:TSC:[15:26:55] Call finished\n",
      "DEBUG:TSC:[15:26:55] Async request returned: received <Response [200]>\n",
      "DEBUG:TSC:Response status: <Response [200]>\n",
      "DEBUG:TSC:Server response from https://10ax.online.tableau.com//api/3.25/sites/01908fc8-731c-4227-997c-7fab8d70218c/views/77ff3a78-dc22-455d-b912-a870d00ac324/pdf\n",
      "INFO:TSC:Querying single view (ID: 77ff3a78-dc22-455d-b912-a870d00ac324)\n",
      "DEBUG:TSC:request method get, url: https://10ax.online.tableau.com//api/3.25/sites/01908fc8-731c-4227-997c-7fab8d70218c/views/77ff3a78-dc22-455d-b912-a870d00ac324\n",
      "DEBUG:TSC:[15:26:55] Begin blocking request to https://10ax.online.tableau.com//api/3.25/sites/01908fc8-731c-4227-997c-7fab8d70218c/views/77ff3a78-dc22-455d-b912-a870d00ac324\n"
     ]
    },
    {
     "name": "stdout",
     "output_type": "stream",
     "text": [
      "Generating PDF for: Namco Bandai Games\n"
     ]
    },
    {
     "name": "stderr",
     "output_type": "stream",
     "text": [
      "DEBUG:urllib3.connectionpool:https://10ax.online.tableau.com:443 \"GET /api/3.25/sites/01908fc8-731c-4227-997c-7fab8d70218c/views/77ff3a78-dc22-455d-b912-a870d00ac324 HTTP/11\" 200 454\n",
      "DEBUG:TSC:[15:26:55] Call finished\n",
      "DEBUG:TSC:[15:26:55] Async request returned: received <Response [200]>\n",
      "DEBUG:TSC:Response status: <Response [200]>\n",
      "DEBUG:TSC:Server response from https://10ax.online.tableau.com//api/3.25/sites/01908fc8-731c-4227-997c-7fab8d70218c/views/77ff3a78-dc22-455d-b912-a870d00ac324\n",
      "INFO:TSC:Populated pdf for view (ID: 77ff3a78-dc22-455d-b912-a870d00ac324)\n",
      "DEBUG:TSC:request method get, url: https://10ax.online.tableau.com//api/3.25/sites/01908fc8-731c-4227-997c-7fab8d70218c/views/77ff3a78-dc22-455d-b912-a870d00ac324/pdf\n",
      "DEBUG:TSC:[15:26:55] Begin blocking request to https://10ax.online.tableau.com//api/3.25/sites/01908fc8-731c-4227-997c-7fab8d70218c/views/77ff3a78-dc22-455d-b912-a870d00ac324/pdf\n",
      "DEBUG:urllib3.connectionpool:https://10ax.online.tableau.com:443 \"GET /api/3.25/sites/01908fc8-731c-4227-997c-7fab8d70218c/views/77ff3a78-dc22-455d-b912-a870d00ac324/pdf?vf_SelectedPublisher=Namco+Bandai+Games HTTP/11\" 200 None\n",
      "DEBUG:TSC:[15:26:55] Call finished\n",
      "DEBUG:TSC:[15:26:55] Async request returned: received <Response [200]>\n",
      "DEBUG:TSC:Response status: <Response [200]>\n",
      "DEBUG:TSC:Server response from https://10ax.online.tableau.com//api/3.25/sites/01908fc8-731c-4227-997c-7fab8d70218c/views/77ff3a78-dc22-455d-b912-a870d00ac324/pdf\n",
      "INFO:TSC:Querying single view (ID: 77ff3a78-dc22-455d-b912-a870d00ac324)\n",
      "DEBUG:TSC:request method get, url: https://10ax.online.tableau.com//api/3.25/sites/01908fc8-731c-4227-997c-7fab8d70218c/views/77ff3a78-dc22-455d-b912-a870d00ac324\n",
      "DEBUG:TSC:[15:26:55] Begin blocking request to https://10ax.online.tableau.com//api/3.25/sites/01908fc8-731c-4227-997c-7fab8d70218c/views/77ff3a78-dc22-455d-b912-a870d00ac324\n"
     ]
    },
    {
     "name": "stdout",
     "output_type": "stream",
     "text": [
      "Generating PDF for: Nintendo\n"
     ]
    },
    {
     "name": "stderr",
     "output_type": "stream",
     "text": [
      "DEBUG:urllib3.connectionpool:https://10ax.online.tableau.com:443 \"GET /api/3.25/sites/01908fc8-731c-4227-997c-7fab8d70218c/views/77ff3a78-dc22-455d-b912-a870d00ac324 HTTP/11\" 200 454\n",
      "DEBUG:TSC:[15:26:56] Call finished\n",
      "DEBUG:TSC:[15:26:56] Async request returned: received <Response [200]>\n",
      "DEBUG:TSC:Response status: <Response [200]>\n",
      "DEBUG:TSC:Server response from https://10ax.online.tableau.com//api/3.25/sites/01908fc8-731c-4227-997c-7fab8d70218c/views/77ff3a78-dc22-455d-b912-a870d00ac324\n",
      "INFO:TSC:Populated pdf for view (ID: 77ff3a78-dc22-455d-b912-a870d00ac324)\n",
      "DEBUG:TSC:request method get, url: https://10ax.online.tableau.com//api/3.25/sites/01908fc8-731c-4227-997c-7fab8d70218c/views/77ff3a78-dc22-455d-b912-a870d00ac324/pdf\n",
      "DEBUG:TSC:[15:26:56] Begin blocking request to https://10ax.online.tableau.com//api/3.25/sites/01908fc8-731c-4227-997c-7fab8d70218c/views/77ff3a78-dc22-455d-b912-a870d00ac324/pdf\n",
      "DEBUG:urllib3.connectionpool:https://10ax.online.tableau.com:443 \"GET /api/3.25/sites/01908fc8-731c-4227-997c-7fab8d70218c/views/77ff3a78-dc22-455d-b912-a870d00ac324/pdf?vf_SelectedPublisher=Nintendo HTTP/11\" 200 None\n",
      "DEBUG:TSC:[15:26:56] Call finished\n",
      "DEBUG:TSC:[15:26:56] Async request returned: received <Response [200]>\n",
      "DEBUG:TSC:Response status: <Response [200]>\n",
      "DEBUG:TSC:Server response from https://10ax.online.tableau.com//api/3.25/sites/01908fc8-731c-4227-997c-7fab8d70218c/views/77ff3a78-dc22-455d-b912-a870d00ac324/pdf\n",
      "INFO:TSC:Querying single view (ID: 77ff3a78-dc22-455d-b912-a870d00ac324)\n",
      "DEBUG:TSC:request method get, url: https://10ax.online.tableau.com//api/3.25/sites/01908fc8-731c-4227-997c-7fab8d70218c/views/77ff3a78-dc22-455d-b912-a870d00ac324\n",
      "DEBUG:TSC:[15:26:56] Begin blocking request to https://10ax.online.tableau.com//api/3.25/sites/01908fc8-731c-4227-997c-7fab8d70218c/views/77ff3a78-dc22-455d-b912-a870d00ac324\n"
     ]
    },
    {
     "name": "stdout",
     "output_type": "stream",
     "text": [
      "Generating PDF for: Sega\n"
     ]
    },
    {
     "name": "stderr",
     "output_type": "stream",
     "text": [
      "DEBUG:urllib3.connectionpool:https://10ax.online.tableau.com:443 \"GET /api/3.25/sites/01908fc8-731c-4227-997c-7fab8d70218c/views/77ff3a78-dc22-455d-b912-a870d00ac324 HTTP/11\" 200 454\n",
      "DEBUG:TSC:[15:26:56] Call finished\n",
      "DEBUG:TSC:[15:26:56] Async request returned: received <Response [200]>\n",
      "DEBUG:TSC:Response status: <Response [200]>\n",
      "DEBUG:TSC:Server response from https://10ax.online.tableau.com//api/3.25/sites/01908fc8-731c-4227-997c-7fab8d70218c/views/77ff3a78-dc22-455d-b912-a870d00ac324\n",
      "INFO:TSC:Populated pdf for view (ID: 77ff3a78-dc22-455d-b912-a870d00ac324)\n",
      "DEBUG:TSC:request method get, url: https://10ax.online.tableau.com//api/3.25/sites/01908fc8-731c-4227-997c-7fab8d70218c/views/77ff3a78-dc22-455d-b912-a870d00ac324/pdf\n",
      "DEBUG:TSC:[15:26:56] Begin blocking request to https://10ax.online.tableau.com//api/3.25/sites/01908fc8-731c-4227-997c-7fab8d70218c/views/77ff3a78-dc22-455d-b912-a870d00ac324/pdf\n",
      "DEBUG:urllib3.connectionpool:https://10ax.online.tableau.com:443 \"GET /api/3.25/sites/01908fc8-731c-4227-997c-7fab8d70218c/views/77ff3a78-dc22-455d-b912-a870d00ac324/pdf?vf_SelectedPublisher=Sega HTTP/11\" 200 None\n",
      "DEBUG:TSC:[15:26:56] Call finished\n",
      "DEBUG:TSC:[15:26:56] Async request returned: received <Response [200]>\n",
      "DEBUG:TSC:Response status: <Response [200]>\n",
      "DEBUG:TSC:Server response from https://10ax.online.tableau.com//api/3.25/sites/01908fc8-731c-4227-997c-7fab8d70218c/views/77ff3a78-dc22-455d-b912-a870d00ac324/pdf\n",
      "INFO:TSC:Querying single view (ID: 77ff3a78-dc22-455d-b912-a870d00ac324)\n",
      "DEBUG:TSC:request method get, url: https://10ax.online.tableau.com//api/3.25/sites/01908fc8-731c-4227-997c-7fab8d70218c/views/77ff3a78-dc22-455d-b912-a870d00ac324\n",
      "DEBUG:TSC:[15:26:56] Begin blocking request to https://10ax.online.tableau.com//api/3.25/sites/01908fc8-731c-4227-997c-7fab8d70218c/views/77ff3a78-dc22-455d-b912-a870d00ac324\n"
     ]
    },
    {
     "name": "stdout",
     "output_type": "stream",
     "text": [
      "Generating PDF for: Sony Computer Entertainment\n"
     ]
    },
    {
     "name": "stderr",
     "output_type": "stream",
     "text": [
      "DEBUG:urllib3.connectionpool:https://10ax.online.tableau.com:443 \"GET /api/3.25/sites/01908fc8-731c-4227-997c-7fab8d70218c/views/77ff3a78-dc22-455d-b912-a870d00ac324 HTTP/11\" 200 454\n",
      "DEBUG:TSC:[15:26:57] Call finished\n",
      "DEBUG:TSC:[15:26:57] Async request returned: received <Response [200]>\n",
      "DEBUG:TSC:Response status: <Response [200]>\n",
      "DEBUG:TSC:Server response from https://10ax.online.tableau.com//api/3.25/sites/01908fc8-731c-4227-997c-7fab8d70218c/views/77ff3a78-dc22-455d-b912-a870d00ac324\n",
      "INFO:TSC:Populated pdf for view (ID: 77ff3a78-dc22-455d-b912-a870d00ac324)\n",
      "DEBUG:TSC:request method get, url: https://10ax.online.tableau.com//api/3.25/sites/01908fc8-731c-4227-997c-7fab8d70218c/views/77ff3a78-dc22-455d-b912-a870d00ac324/pdf\n",
      "DEBUG:TSC:[15:26:57] Begin blocking request to https://10ax.online.tableau.com//api/3.25/sites/01908fc8-731c-4227-997c-7fab8d70218c/views/77ff3a78-dc22-455d-b912-a870d00ac324/pdf\n",
      "DEBUG:urllib3.connectionpool:https://10ax.online.tableau.com:443 \"GET /api/3.25/sites/01908fc8-731c-4227-997c-7fab8d70218c/views/77ff3a78-dc22-455d-b912-a870d00ac324/pdf?vf_SelectedPublisher=Sony+Computer+Entertainment HTTP/11\" 200 None\n",
      "DEBUG:TSC:[15:26:57] Call finished\n",
      "DEBUG:TSC:[15:26:57] Async request returned: received <Response [200]>\n",
      "DEBUG:TSC:Response status: <Response [200]>\n",
      "DEBUG:TSC:Server response from https://10ax.online.tableau.com//api/3.25/sites/01908fc8-731c-4227-997c-7fab8d70218c/views/77ff3a78-dc22-455d-b912-a870d00ac324/pdf\n",
      "INFO:TSC:Querying single view (ID: 77ff3a78-dc22-455d-b912-a870d00ac324)\n",
      "DEBUG:TSC:request method get, url: https://10ax.online.tableau.com//api/3.25/sites/01908fc8-731c-4227-997c-7fab8d70218c/views/77ff3a78-dc22-455d-b912-a870d00ac324\n",
      "DEBUG:TSC:[15:26:57] Begin blocking request to https://10ax.online.tableau.com//api/3.25/sites/01908fc8-731c-4227-997c-7fab8d70218c/views/77ff3a78-dc22-455d-b912-a870d00ac324\n"
     ]
    },
    {
     "name": "stdout",
     "output_type": "stream",
     "text": [
      "Generating PDF for: Take-Two Interactive\n"
     ]
    },
    {
     "name": "stderr",
     "output_type": "stream",
     "text": [
      "DEBUG:urllib3.connectionpool:https://10ax.online.tableau.com:443 \"GET /api/3.25/sites/01908fc8-731c-4227-997c-7fab8d70218c/views/77ff3a78-dc22-455d-b912-a870d00ac324 HTTP/11\" 200 454\n",
      "DEBUG:TSC:[15:26:57] Call finished\n",
      "DEBUG:TSC:[15:26:57] Async request returned: received <Response [200]>\n",
      "DEBUG:TSC:Response status: <Response [200]>\n",
      "DEBUG:TSC:Server response from https://10ax.online.tableau.com//api/3.25/sites/01908fc8-731c-4227-997c-7fab8d70218c/views/77ff3a78-dc22-455d-b912-a870d00ac324\n",
      "INFO:TSC:Populated pdf for view (ID: 77ff3a78-dc22-455d-b912-a870d00ac324)\n",
      "DEBUG:TSC:request method get, url: https://10ax.online.tableau.com//api/3.25/sites/01908fc8-731c-4227-997c-7fab8d70218c/views/77ff3a78-dc22-455d-b912-a870d00ac324/pdf\n",
      "DEBUG:TSC:[15:26:57] Begin blocking request to https://10ax.online.tableau.com//api/3.25/sites/01908fc8-731c-4227-997c-7fab8d70218c/views/77ff3a78-dc22-455d-b912-a870d00ac324/pdf\n",
      "DEBUG:urllib3.connectionpool:https://10ax.online.tableau.com:443 \"GET /api/3.25/sites/01908fc8-731c-4227-997c-7fab8d70218c/views/77ff3a78-dc22-455d-b912-a870d00ac324/pdf?vf_SelectedPublisher=Take-Two+Interactive HTTP/11\" 200 None\n",
      "DEBUG:TSC:[15:26:57] Call finished\n",
      "DEBUG:TSC:[15:26:57] Async request returned: received <Response [200]>\n",
      "DEBUG:TSC:Response status: <Response [200]>\n",
      "DEBUG:TSC:Server response from https://10ax.online.tableau.com//api/3.25/sites/01908fc8-731c-4227-997c-7fab8d70218c/views/77ff3a78-dc22-455d-b912-a870d00ac324/pdf\n",
      "INFO:TSC:Querying single view (ID: 77ff3a78-dc22-455d-b912-a870d00ac324)\n",
      "DEBUG:TSC:request method get, url: https://10ax.online.tableau.com//api/3.25/sites/01908fc8-731c-4227-997c-7fab8d70218c/views/77ff3a78-dc22-455d-b912-a870d00ac324\n",
      "DEBUG:TSC:[15:26:57] Begin blocking request to https://10ax.online.tableau.com//api/3.25/sites/01908fc8-731c-4227-997c-7fab8d70218c/views/77ff3a78-dc22-455d-b912-a870d00ac324\n"
     ]
    },
    {
     "name": "stdout",
     "output_type": "stream",
     "text": [
      "Generating PDF for: THQ\n"
     ]
    },
    {
     "name": "stderr",
     "output_type": "stream",
     "text": [
      "DEBUG:urllib3.connectionpool:https://10ax.online.tableau.com:443 \"GET /api/3.25/sites/01908fc8-731c-4227-997c-7fab8d70218c/views/77ff3a78-dc22-455d-b912-a870d00ac324 HTTP/11\" 200 454\n",
      "DEBUG:TSC:[15:26:58] Call finished\n",
      "DEBUG:TSC:[15:26:58] Async request returned: received <Response [200]>\n",
      "DEBUG:TSC:Response status: <Response [200]>\n",
      "DEBUG:TSC:Server response from https://10ax.online.tableau.com//api/3.25/sites/01908fc8-731c-4227-997c-7fab8d70218c/views/77ff3a78-dc22-455d-b912-a870d00ac324\n",
      "INFO:TSC:Populated pdf for view (ID: 77ff3a78-dc22-455d-b912-a870d00ac324)\n",
      "DEBUG:TSC:request method get, url: https://10ax.online.tableau.com//api/3.25/sites/01908fc8-731c-4227-997c-7fab8d70218c/views/77ff3a78-dc22-455d-b912-a870d00ac324/pdf\n",
      "DEBUG:TSC:[15:26:58] Begin blocking request to https://10ax.online.tableau.com//api/3.25/sites/01908fc8-731c-4227-997c-7fab8d70218c/views/77ff3a78-dc22-455d-b912-a870d00ac324/pdf\n",
      "DEBUG:urllib3.connectionpool:https://10ax.online.tableau.com:443 \"GET /api/3.25/sites/01908fc8-731c-4227-997c-7fab8d70218c/views/77ff3a78-dc22-455d-b912-a870d00ac324/pdf?vf_SelectedPublisher=THQ HTTP/11\" 200 None\n",
      "DEBUG:TSC:[15:26:58] Call finished\n",
      "DEBUG:TSC:[15:26:58] Async request returned: received <Response [200]>\n",
      "DEBUG:TSC:Response status: <Response [200]>\n",
      "DEBUG:TSC:Server response from https://10ax.online.tableau.com//api/3.25/sites/01908fc8-731c-4227-997c-7fab8d70218c/views/77ff3a78-dc22-455d-b912-a870d00ac324/pdf\n",
      "INFO:TSC:Querying single view (ID: 77ff3a78-dc22-455d-b912-a870d00ac324)\n",
      "DEBUG:TSC:request method get, url: https://10ax.online.tableau.com//api/3.25/sites/01908fc8-731c-4227-997c-7fab8d70218c/views/77ff3a78-dc22-455d-b912-a870d00ac324\n",
      "DEBUG:TSC:[15:26:58] Begin blocking request to https://10ax.online.tableau.com//api/3.25/sites/01908fc8-731c-4227-997c-7fab8d70218c/views/77ff3a78-dc22-455d-b912-a870d00ac324\n"
     ]
    },
    {
     "name": "stdout",
     "output_type": "stream",
     "text": [
      "Generating PDF for: Ubisoft\n"
     ]
    },
    {
     "name": "stderr",
     "output_type": "stream",
     "text": [
      "DEBUG:urllib3.connectionpool:https://10ax.online.tableau.com:443 \"GET /api/3.25/sites/01908fc8-731c-4227-997c-7fab8d70218c/views/77ff3a78-dc22-455d-b912-a870d00ac324 HTTP/11\" 200 454\n",
      "DEBUG:TSC:[15:26:58] Call finished\n",
      "DEBUG:TSC:[15:26:58] Async request returned: received <Response [200]>\n",
      "DEBUG:TSC:Response status: <Response [200]>\n",
      "DEBUG:TSC:Server response from https://10ax.online.tableau.com//api/3.25/sites/01908fc8-731c-4227-997c-7fab8d70218c/views/77ff3a78-dc22-455d-b912-a870d00ac324\n",
      "INFO:TSC:Populated pdf for view (ID: 77ff3a78-dc22-455d-b912-a870d00ac324)\n",
      "DEBUG:TSC:request method get, url: https://10ax.online.tableau.com//api/3.25/sites/01908fc8-731c-4227-997c-7fab8d70218c/views/77ff3a78-dc22-455d-b912-a870d00ac324/pdf\n",
      "DEBUG:TSC:[15:26:58] Begin blocking request to https://10ax.online.tableau.com//api/3.25/sites/01908fc8-731c-4227-997c-7fab8d70218c/views/77ff3a78-dc22-455d-b912-a870d00ac324/pdf\n",
      "DEBUG:urllib3.connectionpool:https://10ax.online.tableau.com:443 \"GET /api/3.25/sites/01908fc8-731c-4227-997c-7fab8d70218c/views/77ff3a78-dc22-455d-b912-a870d00ac324/pdf?vf_SelectedPublisher=Ubisoft HTTP/11\" 200 None\n",
      "DEBUG:TSC:[15:26:58] Call finished\n",
      "DEBUG:TSC:[15:26:58] Async request returned: received <Response [200]>\n",
      "DEBUG:TSC:Response status: <Response [200]>\n",
      "DEBUG:TSC:Server response from https://10ax.online.tableau.com//api/3.25/sites/01908fc8-731c-4227-997c-7fab8d70218c/views/77ff3a78-dc22-455d-b912-a870d00ac324/pdf\n",
      "DEBUG:TSC:request method post, url: https://10ax.online.tableau.com//api/3.25/auth/signout\n",
      "DEBUG:TSC:[15:26:58] Begin blocking request to https://10ax.online.tableau.com//api/3.25/auth/signout\n"
     ]
    },
    {
     "name": "stdout",
     "output_type": "stream",
     "text": [
      "All PDFs merged successfully.\n",
      "Final merged PDF saved: output/merged_publisher_views.pdf\n"
     ]
    },
    {
     "name": "stderr",
     "output_type": "stream",
     "text": [
      "DEBUG:urllib3.connectionpool:https://10ax.online.tableau.com:443 \"POST /api/3.25/auth/signout HTTP/11\" 204 0\n",
      "DEBUG:TSC:[15:26:59] Call finished\n",
      "DEBUG:TSC:[15:26:59] Async request returned: received <Response [204]>\n",
      "DEBUG:TSC:Response status: <Response [204]>\n",
      "DEBUG:TSC:Server response from https://10ax.online.tableau.com//api/3.25/auth/signout\n",
      "INFO:TSC:Signed out\n"
     ]
    }
   ],
   "source": [
    "import os\n",
    "import io\n",
    "import PyPDF2  # ✅ PyPDF 사용\n",
    "import tableauserverclient as TSC\n",
    "\n",
    "# Tableau Server 정보\n",
    "my_server_url = 'https://10ax.online.tableau.com/'\n",
    "my_token_name = os.getenv(\"my_token_name\")\n",
    "my_token_secret = os.getenv(\"my_token_secret\")\n",
    "my_site_id = os.getenv(\"my_site_id\")\n",
    "my_workbook = \"Let's Play A Game\"\n",
    "\n",
    "# 'SelectedPublisher' 매개변수 목록\n",
    "publishers = [\n",
    "    \"Activision\",\n",
    "    \"Electronic Arts\",\n",
    "    \"Konami Digital Entertainment\",\n",
    "    \"Namco Bandai Games\",\n",
    "    \"Nintendo\",\n",
    "    \"Sega\",\n",
    "    \"Sony Computer Entertainment\",\n",
    "    \"Take-Two Interactive\",\n",
    "    \"THQ\",\n",
    "    \"Ubisoft\"\n",
    "]\n",
    "\n",
    "# Tableau 인증\n",
    "tableau_auth = TSC.PersonalAccessTokenAuth(\n",
    "    token_name=my_token_name,\n",
    "    personal_access_token=my_token_secret,\n",
    "    site_id=my_site_id\n",
    ")\n",
    "server = TSC.Server(my_server_url, use_server_version=True)\n",
    "\n",
    "# PDF 저장 폴더\n",
    "pdf_folder = \"output\"\n",
    "os.makedirs(pdf_folder, exist_ok=True)\n",
    "\n",
    "# 병합된 PDF 파일 경로\n",
    "merged_pdf_path = os.path.join(pdf_folder, \"merged_publisher_views.pdf\")\n",
    "merged_pdf_writer = PyPDF2.PdfWriter()  # ✅ PyPDF2 PdfWriter 사용\n",
    "\n",
    "# Tableau 로그인\n",
    "with server.auth.sign_in_with_personal_access_token(tableau_auth):\n",
    "    print(f'[Logged in successfully to {my_server_url}]')\n",
    "\n",
    "    # Workbook 가져오기\n",
    "    req_option = TSC.RequestOptions()\n",
    "    req_option.filter.add(\n",
    "        TSC.Filter(\n",
    "            TSC.RequestOptions.Field.Name,\n",
    "            TSC.RequestOptions.Operator.Equals,\n",
    "            my_workbook\n",
    "        )\n",
    "    )\n",
    "\n",
    "    workbooks, pagination_item = server.workbooks.get(req_options=req_option)\n",
    "\n",
    "    if workbooks:\n",
    "        workbook = workbooks[0]\n",
    "        print(f\"Workbook found: {workbook.name} (ID: {workbook.id})\")\n",
    "\n",
    "        # Workbook 내 View 가져오기\n",
    "        server.workbooks.populate_views(workbook)\n",
    "        view = workbook.views[0]  # 첫 번째 View 사용\n",
    "        print(f\"Using view: {view.name} (ID: {view.id})\")\n",
    "\n",
    "        for publisher in publishers:\n",
    "            print(f\"Generating PDF for: {publisher}\")\n",
    "\n",
    "            # 🆕 새로운 view 객체 가져오기\n",
    "            selected_view = server.views.get_by_id(view.id)\n",
    "\n",
    "            # 🆕 필터 적용 후 PDF 변환\n",
    "            pdf_req_option = TSC.PDFRequestOptions()\n",
    "            pdf_req_option.vf(\"SelectedPublisher\", publisher)  # ✅ 필터 적용\n",
    "\n",
    "            server.views.populate_pdf(selected_view, pdf_req_option)\n",
    "\n",
    "            # ✅ selected_view.pdf를 BytesIO 객체로 변환\n",
    "            pdf_stream = io.BytesIO(selected_view.pdf)\n",
    "\n",
    "            # ✅ PyPDF2로 PDF 읽기\n",
    "            temp_pdf_reader = PyPDF2.PdfReader(pdf_stream)\n",
    "\n",
    "            # ✅ 기존 PDF 페이지를 그대로 추가 (회전 없음)\n",
    "            for page in temp_pdf_reader.pages:\n",
    "                merged_pdf_writer.add_page(page)\n",
    "\n",
    "        print(\"All PDFs merged successfully.\")\n",
    "\n",
    "        # 병합된 PDF 저장\n",
    "        with open(merged_pdf_path, \"wb\") as output_pdf:\n",
    "            merged_pdf_writer.write(output_pdf)\n",
    "\n",
    "        print(f\"Final merged PDF saved: {merged_pdf_path}\")"
   ]
  },
  {
   "cell_type": "code",
   "execution_count": null,
   "metadata": {},
   "outputs": [],
   "source": []
  }
 ],
 "metadata": {
  "kernelspec": {
   "display_name": "Python 3",
   "language": "python",
   "name": "python3"
  },
  "language_info": {
   "codemirror_mode": {
    "name": "ipython",
    "version": 3
   },
   "file_extension": ".py",
   "mimetype": "text/x-python",
   "name": "python",
   "nbconvert_exporter": "python",
   "pygments_lexer": "ipython3",
   "version": "3.12.5"
  }
 },
 "nbformat": 4,
 "nbformat_minor": 2
}
