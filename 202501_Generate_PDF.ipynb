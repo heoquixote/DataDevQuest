{
 "cells": [
  {
   "cell_type": "code",
   "execution_count": 25,
   "metadata": {},
   "outputs": [
    {
     "name": "stdout",
     "output_type": "stream",
     "text": [
      "[Logged in successfully to https://10ax.online.tableau.com/]\n"
     ]
    }
   ],
   "source": [
    "import os\n",
    "from dotenv import load_dotenv\n",
    "\n",
    "# .env 파일 로드\n",
    "load_dotenv()\n",
    "import tableauserverclient as TSC\n",
    "\n",
    "\n",
    "my_server_url = 'https://10ax.online.tableau.com/'\n",
    "my_token_name = os.getenv(\"my_token_name\")\n",
    "my_token_secret = os.getenv(\"my_token_secret\")\n",
    "my_site_id = os.getenv(\"my_site_id\")\n",
    "\n",
    "tableau_auth = TSC.PersonalAccessTokenAuth( token_name=my_token_name\n",
    "                                           ,personal_access_token=my_token_secret\n",
    "                                           ,site_id=my_site_id)\n",
    "server = TSC.Server(my_server_url, use_server_version=\"3.25\")\n",
    "\n",
    "with server.auth.sign_in_with_personal_access_token(tableau_auth):\n",
    "    print('[Logged in successfully to {}]'.format(my_server_url))"
   ]
  },
  {
   "cell_type": "code",
   "execution_count": 26,
   "metadata": {},
   "outputs": [
    {
     "name": "stdout",
     "output_type": "stream",
     "text": [
      "[Logged in successfully to https://10ax.online.tableau.com/]\n",
      "=== Workbook ===\n",
      "Name:world as 100 people_by_Paula_Munoz\n",
      "luid:1ac109bd-2b6d-4762-8870-22b1653746e8\n",
      "URL:https://10ax.online.tableau.com/#/site/hotelab/workbooks/936544\n",
      "Content URL:worldas100people_by_Paula_Munoz\n"
     ]
    }
   ],
   "source": [
    "my_workbook = \"world as 100 people_by_Paula_Munoz\"\n",
    "\n",
    "with server.auth.sign_in_with_personal_access_token(tableau_auth):\n",
    "    print('[Logged in successfully to {}]'.format(my_server_url))\n",
    "    \n",
    "    req_option = TSC.RequestOptions()\n",
    "    req_option.filter.add(TSC.Filter(TSC.RequestOptions.Field.Name\n",
    "                                    ,TSC.RequestOptions.Operator.Equals\n",
    "                                    ,my_workbook))\n",
    " \n",
    "    workbooks, pagination_item = server.workbooks.get(req_options=req_option)\n",
    "    if workbooks:\n",
    "        print(f\"=== Workbook ===\")\n",
    "        print(f\"Name:{workbooks[0].name}\")\n",
    "        print(f\"luid:{workbooks[0].id}\")\n",
    "        print(f\"URL:{workbooks[0].webpage_url}\")\n",
    "        print(f\"Content URL:{workbooks[0].content_url}\")\n"
   ]
  },
  {
   "cell_type": "code",
   "execution_count": 27,
   "metadata": {},
   "outputs": [
    {
     "name": "stdout",
     "output_type": "stream",
     "text": [
      "[Logged in successfully to https://10ax.online.tableau.com/]\n",
      "=== Workbook ===\n",
      "Name:world as 100 people_by_Paula_Munoz\n",
      "luid:1ac109bd-2b6d-4762-8870-22b1653746e8\n",
      "URL:https://10ax.online.tableau.com/#/site/hotelab/workbooks/936544\n",
      "View:worldas100people_by_Paula_Munoz\n",
      "Path:/Users/heojinseong/Desktop/DataDevQuest\n",
      "[PDF Generated]\n"
     ]
    }
   ],
   "source": [
    "import os\n",
    "\n",
    "# my_content_url = input()\n",
    "my_content_url = 'worldas100people_by_Paula_Munoz'\n",
    "pdf_file_name = f'/Users/heojinseong/Desktop/DataDevQuest/{my_content_url}.pdf'\n",
    "\n",
    "tableau_auth = TSC.PersonalAccessTokenAuth( token_name=my_token_name\n",
    "                                           ,personal_access_token=my_token_secret\n",
    "                                           ,site_id=my_site_id)\n",
    "server = TSC.Server(my_server_url, use_server_version=True)\n",
    "\n",
    "with server.auth.sign_in_with_personal_access_token(tableau_auth):\n",
    "    print('[Logged in successfully to {}]'.format(my_server_url))\n",
    "\n",
    "    req_option = TSC.RequestOptions()\n",
    "    req_option.filter.add(TSC.Filter(TSC.RequestOptions.Field.ContentUrl\n",
    "                                    ,TSC.RequestOptions.Operator.Equals\n",
    "                                    ,my_content_url))\n",
    "\n",
    "    workbooks, pagination_item = server.workbooks.get(req_options=req_option)\n",
    "    if workbooks:\n",
    "\n",
    "        wb = workbooks[0]\n",
    "        print(f\"=== Workbook ===\")\n",
    "        print(f\"Name:{wb.name}\")\n",
    "        print(f\"luid:{wb.id}\")\n",
    "        print(f\"URL:{wb.webpage_url}\")\n",
    "        print(f\"View:{wb.content_url}\")\n",
    "\n",
    "        pdf_options = TSC.PDFRequestOptions(page_type='unspecified', orientation='landscape')\n",
    "\n",
    "        server.workbooks.populate_pdf(wb, pdf_options)\n",
    "\n",
    "        print(f'Path:{os.getcwd()}')\n",
    "        with open(pdf_file_name, 'wb') as f:\n",
    "            f.write(wb.pdf)\n",
    "            print('[PDF Generated]')"
   ]
  }
 ],
 "metadata": {
  "kernelspec": {
   "display_name": "Python 3",
   "language": "python",
   "name": "python3"
  },
  "language_info": {
   "codemirror_mode": {
    "name": "ipython",
    "version": 3
   },
   "file_extension": ".py",
   "mimetype": "text/x-python",
   "name": "python",
   "nbconvert_exporter": "python",
   "pygments_lexer": "ipython3",
   "version": "3.12.5"
  }
 },
 "nbformat": 4,
 "nbformat_minor": 2
}
